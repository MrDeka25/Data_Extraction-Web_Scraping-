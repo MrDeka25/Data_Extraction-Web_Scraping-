{
 "cells": [
  {
   "cell_type": "code",
   "execution_count": 115,
   "id": "5b5b7117",
   "metadata": {},
   "outputs": [
    {
     "name": "stdout",
     "output_type": "stream",
     "text": [
      "Positive score:  9.248870078334365\n",
      "Negative score:  1.5699867724867724\n",
      "Polarity score:  7.678883305847592\n",
      "Subjectivity score:  24.60919655741084\n",
      "Avg sentence length:  20.873015873015873\n",
      "Percentage of complex words:  61.21673003802282\n",
      "Fog index:  32.83589836441548\n",
      "Avg number of words per sentence:  20.873015873015873\n",
      "Complex word count:  805\n",
      "Word count:  1315\n",
      "Syllables per word:  3.7300380228136882\n",
      "Personal pronouns:  11\n",
      "Avg word length:  4.844866920152091\n"
     ]
    }
   ],
   "source": [
    "import nltk\n",
    "from textblob import TextBlob\n",
    "from nltk.corpus import cmudict\n",
    "from nltk.tokenize import sent_tokenize, word_tokenize\n",
    "\n",
    "# Load CMU pronouncing dictionary for syllable counting\n",
    "d = cmudict.dict()\n",
    "\n",
    "# Load text file with UTF-8 encoding\n",
    "with open('httpsinsights.blackcoffer.comchallenges-and-opportunities-of-big-data-in-healthcare.txt', 'r', encoding='utf-8', errors='replace') as file:\n",
    "    text = file.read()\n",
    "\n",
    "# Tokenize text into sentences and words\n",
    "sentences = sent_tokenize(text)\n",
    "words = word_tokenize(text)\n",
    "\n",
    "# Calculate metrics\n",
    "positive_score = 0\n",
    "negative_score = 0\n",
    "polarity_score = 0\n",
    "subjectivity_score = 0\n",
    "avg_sentence_length = 0\n",
    "percentage_complex_words = 0\n",
    "fog_index = 0\n",
    "avg_word_length = 0\n",
    "syllables_per_word = 0\n",
    "personal_pronouns = 0\n",
    "complex_word_count = 0\n",
    "word_count = len(words)\n",
    "\n",
    "for sentence in sentences:\n",
    "    # Calculate sentence-level metrics\n",
    "    sentence_blob = TextBlob(sentence)\n",
    "    positive_score += sentence_blob.sentiment.polarity if sentence_blob.sentiment.polarity > 0 else 0\n",
    "    negative_score += abs(sentence_blob.sentiment.polarity) if sentence_blob.sentiment.polarity < 0 else 0\n",
    "    polarity_score += sentence_blob.sentiment.polarity\n",
    "    subjectivity_score += sentence_blob.sentiment.subjectivity\n",
    "    words_in_sentence = word_tokenize(sentence)\n",
    "    avg_sentence_length += len(words_in_sentence)\n",
    "    complex_word_count += sum([1 for word in words_in_sentence if len(word) > 2 and d.get(word.lower()) and len(d.get(word.lower())[0]) > 2])\n",
    "\n",
    "# Calculate document-level metrics\n",
    "avg_sentence_length /= len(sentences)\n",
    "percentage_complex_words = complex_word_count / word_count * 100\n",
    "fog_index = 0.4 * (avg_sentence_length + percentage_complex_words)\n",
    "avg_word_length = sum(len(word) for word in words) / word_count\n",
    "syllables_per_word = sum([len(d.get(word.lower())[0]) for word in words if d.get(word.lower())]) / word_count\n",
    "personal_pronouns = sum([1 for word in words if word.lower() in ['i', 'me', 'my', 'mine', 'we', 'us', 'our', 'ours']])\n",
    "\n",
    "# Print results\n",
    "print(\"Positive score: \", positive_score)\n",
    "print(\"Negative score: \", negative_score)\n",
    "print(\"Polarity score: \", polarity_score)\n",
    "print(\"Subjectivity score: \", subjectivity_score)\n",
    "print(\"Avg sentence length: \", avg_sentence_length)\n",
    "print(\"Percentage of complex words: \", percentage_complex_words)\n",
    "print(\"Fog index: \", fog_index)\n",
    "print(\"Avg number of words per sentence: \", avg_sentence_length)\n",
    "print(\"Complex word count: \", complex_word_count)\n",
    "print(\"Word count: \", word_count)\n",
    "print(\"Syllables per word: \", syllables_per_word)\n",
    "print(\"Personal pronouns: \", personal_pronouns)\n",
    "print(\"Avg word length: \", avg_word_length)\n"
   ]
  },
  {
   "cell_type": "code",
   "execution_count": null,
   "id": "6b7df66d",
   "metadata": {},
   "outputs": [],
   "source": []
  },
  {
   "cell_type": "code",
   "execution_count": null,
   "id": "a294cc31",
   "metadata": {},
   "outputs": [],
   "source": []
  }
 ],
 "metadata": {
  "kernelspec": {
   "display_name": "Python 3 (ipykernel)",
   "language": "python",
   "name": "python3"
  },
  "language_info": {
   "codemirror_mode": {
    "name": "ipython",
    "version": 3
   },
   "file_extension": ".py",
   "mimetype": "text/x-python",
   "name": "python",
   "nbconvert_exporter": "python",
   "pygments_lexer": "ipython3",
   "version": "3.11.2"
  }
 },
 "nbformat": 4,
 "nbformat_minor": 5
}
